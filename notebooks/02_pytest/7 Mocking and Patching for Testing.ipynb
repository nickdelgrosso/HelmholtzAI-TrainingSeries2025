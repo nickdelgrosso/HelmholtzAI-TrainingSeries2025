{
 "cells": [
  {
   "cell_type": "markdown",
   "metadata": {},
   "source": [
    "## Making Code More Testable: Utilizing Mocks and Patches in pytest"
   ]
  },
  {
   "cell_type": "code",
   "execution_count": null,
   "metadata": {},
   "outputs": [],
   "source": [
    "from unittest.mock import Mock, patch"
   ]
  },
  {
   "cell_type": "markdown",
   "metadata": {},
   "source": [
    "Some code is particularly challenging to test, either because it is:\n",
    "  - unpredictable (e.g. functions with random stochastic steps),\n",
    "  - dependent on access to private or large data files,\n",
    "  - computationally slow,\n",
    "  - depends on other systems out of our control.\n",
    "\n",
    "How can we ensure that the code we write works the way it does in these cases?  We can **\"Mock\"** out the difficult-to-test parts!"
   ]
  },
  {
   "cell_type": "markdown",
   "metadata": {},
   "source": [
    "---"
   ]
  },
  {
   "cell_type": "markdown",
   "metadata": {},
   "source": [
    "## 1. Mocking to Create Predictable Behavior\n",
    "\n",
    "While we can write custom functions using the `def` keyword, we can also use Object-Oriented Programming to create objects that *behave* as though they were functions, even if they really aren't doing any computation at all.  The `Mock` class from the built-in `unittest` library makes it convenient for creating these \"Mock\" (sometimes called \"Fake\") objects.  \n",
    "\n",
    "In this section, we'll get familiar with how `Mock` objects work, which we'll use in the sections following to get tough-to-test code under control.\n",
    "\n",
    "| Code | Description |\n",
    "| :- | :- |\n",
    "| **`mock = Mock()`** | Create a Mock() object |\n",
    "| **`mock(1, 2)`** | Call the mock object as though it were **any function you want**. Doesn't actually do anything. |\n",
    "| **`mock.return_value = 5`** | Tell the mock function to always return `5` when called, no matter the inputs. |\n",
    "| **`mock.some_method(3, 5)`** | Call **any method you want** on the mock object. Doesn't actually do anything.|\n",
    "| **`mock.some_method.return_value = 10`** | Tell the `some_method` mock method to always return `10` when called, no matter the inputs. |\n"
   ]
  },
  {
   "cell_type": "markdown",
   "metadata": {},
   "source": [
    "**Example**: Create a `five` Mock object that passes the tests below:"
   ]
  },
  {
   "cell_type": "code",
   "execution_count": null,
   "metadata": {},
   "outputs": [],
   "source": [
    "five = Mock()\n",
    "five.return_value = 5\n"
   ]
  },
  {
   "cell_type": "code",
   "execution_count": null,
   "metadata": {},
   "outputs": [],
   "source": [
    "assert five(3) == 5\n",
    "assert five(1, 2, 3) == 5\n",
    "assert five('Hi Everyone!') == 5"
   ]
  },
  {
   "cell_type": "markdown",
   "metadata": {},
   "source": [
    "**Exercise** Create a `three` Mock object that passes the tests below:"
   ]
  },
  {
   "cell_type": "code",
   "execution_count": null,
   "metadata": {},
   "outputs": [],
   "source": [
    "assert three(1, 2, 3) == 3\n",
    "assert three([10, 20]) == 3\n",
    "assert three('two', 'one') == 3"
   ]
  },
  {
   "cell_type": "markdown",
   "metadata": {},
   "source": [
    "**Exercise**: Create a `data` Mock object that passes the tests below:"
   ]
  },
  {
   "cell_type": "code",
   "execution_count": null,
   "metadata": {},
   "outputs": [],
   "source": [
    "assert data.mean() == 10.5\n",
    "assert data.std() == 5.2"
   ]
  },
  {
   "cell_type": "markdown",
   "metadata": {},
   "source": [
    "**Exercise**: The `random` module has functions that are difficult to predict what they will do.  Let's fix that by creating a `random` Mock object that is more predicatable, that passes the tests below:"
   ]
  },
  {
   "cell_type": "code",
   "execution_count": null,
   "metadata": {},
   "outputs": [],
   "source": [
    "assert random.randint() == 42\n",
    "assert random.randint(1, 100) == 42\n",
    "assert random.randfloat() == 3.14"
   ]
  },
  {
   "cell_type": "markdown",
   "metadata": {},
   "source": [
    "**Exercise**: The `load(filename)` function from `json` needs a data file in order to work. Let's make it easier to simulate data by creating a `load` Mock object that always gives us a specific simulated dataset:"
   ]
  },
  {
   "cell_type": "code",
   "execution_count": null,
   "metadata": {},
   "outputs": [],
   "source": [
    "assert load() == {'a': 3, 'b': 4}"
   ]
  },
  {
   "cell_type": "markdown",
   "metadata": {},
   "source": [
    "---"
   ]
  },
  {
   "cell_type": "markdown",
   "metadata": {},
   "source": [
    "## 2. Mocking to Spy on your Code\n",
    "\n",
    "How are the functions and objects actually being used inside your code?  By adding `Mock` features to a Python object with `wraps`, the object will continue to work the same as before, but now you can test how it is used inside other pieces of code!  This is called making a **Spy**, and is a valuable technique for testing complex code pipelines.\n",
    "\n",
    "| **Code** | **Description** |\n",
    "| :-- | :-- |\n",
    "| **`spy = Mock(wraps=print)`** | Wrap the `print()` function, so you can find out how it was called. |\n",
    "| **`args, kwargs = spy.call_args`** | Find out what positional and keyword arguments were used when calling the spy` |\n",
    "| **`spy.assert_called()`** | Raises an `AssertionError` if `spy` was never called. |\n",
    "| **`spy.assert_called_once()`** | Raises an `AssertionError` if `spy` was called more or less than once. |\n",
    "| **`assert spy.call_count == 5`** | Raises an `AssertionError` if `spy` wasn't called exactly `5` times. |\n",
    "| **`spy.assert_called_with('hello')`** | Raises an `AssertionError` if `spy` was not last called with `'hello'` as the input. |\n"
   ]
  },
  {
   "cell_type": "markdown",
   "metadata": {},
   "source": [
    "**Example**: Run the code below, and test the following:\n",
    "  - Was `mock_print()` only called one time?\n",
    "  - Was `mock_print()` called with the positional argument: 'Hello, World'?"
   ]
  },
  {
   "cell_type": "code",
   "execution_count": null,
   "metadata": {},
   "outputs": [],
   "source": [
    "mock_print = Mock(wraps=print)\n",
    "mock_print('Hello, World')"
   ]
  },
  {
   "cell_type": "code",
   "execution_count": null,
   "metadata": {},
   "outputs": [],
   "source": [
    "mock_print.assert_called_once()\n",
    "mock_print.assert_called_with('Hello, World')"
   ]
  },
  {
   "cell_type": "markdown",
   "metadata": {},
   "source": [
    "**Exercise**: Run the code below, and test the following:\n",
    "\n",
    "  - Was `mock_rnd` called at least once?\n",
    "  - Was `mock_rnd` called exactly twice?\n",
    "  - Was `mock_rnd` last called with the positional arguments `10` and `100`?"
   ]
  },
  {
   "cell_type": "code",
   "execution_count": null,
   "metadata": {},
   "outputs": [],
   "source": [
    "import random\n",
    "mock_rnd = Mock(random.randint)\n",
    "mock_rnd(1, 10)\n",
    "mock_rnd(10, 100)"
   ]
  },
  {
   "cell_type": "markdown",
   "metadata": {},
   "source": [
    "**Exercise**: Is `record_data()` writing data to `mydata1.txt`, as expected?  run the function with a `Mock` object instead of the `save_fun` to spy on the function and check the call arguments to `save_fun` start with `mydata1.txt` (Hint: `spy.call_args[0][0] == 'mydata1.txt'`)"
   ]
  },
  {
   "cell_type": "code",
   "execution_count": null,
   "metadata": {},
   "outputs": [],
   "source": [
    "import numpy as np\n",
    "\n",
    "def record_data(save_fun = np.savetxt):\n",
    "    save_fun('mydata1.txt', [1, 2, 3])"
   ]
  },
  {
   "cell_type": "markdown",
   "metadata": {},
   "source": [
    "**Exercise**: The function `wait_n_seconds(n)` is special: it should be calling it's `sleep()` function (which is `time.sleep()`, by default) 10 times for every second that the function is supposed to wait, and wait 100 milliseconds each call.  Let's test this by replacing the `sleep` function with a `Mock()` and testing that:\n",
    "  - `wait_n_seconds(1)` calls the sleep function 10 times.\n",
    "  - `wait_n_seconds(2)` calls the sleep function 20 times.\n",
    "  - `wait_n_seconds(0)` never calls the sleep function."
   ]
  },
  {
   "cell_type": "code",
   "execution_count": null,
   "metadata": {},
   "outputs": [],
   "source": [
    "import time\n",
    "\n",
    "def wait_n_seconds(n, sleep=time.sleep):\n",
    "    ms = n * 1000\n",
    "    while ms > 0:\n",
    "        ms = ms - 100\n",
    "        sleep(0.1)\n",
    "\n",
    "\n",
    "wait_n_seconds(1)"
   ]
  },
  {
   "cell_type": "markdown",
   "metadata": {},
   "source": [
    "---"
   ]
  },
  {
   "cell_type": "markdown",
   "metadata": {},
   "source": [
    "## 3. Patching to Make a Mock\n",
    "\n",
    "It is convenient to Mock an input to a function or an object, but sometimes the code you want to Mock isn't so easily accessible. This is where `unittest.mock.patch()` comes in!  Using a `with` block, you can tell python to swap out the code from one module with a mocked version during some specified period.  Below is the pattern:\n",
    "\n",
    "```python\n",
    "with patch('module.fun') as mock:\n",
    "    run_code()\n",
    "```"
   ]
  },
  {
   "cell_type": "markdown",
   "metadata": {},
   "source": [
    "**Example**:  Below is the `wait_n_seconds()` function again, but this time there is no way to override the `time.sleep()` function it calls through the inputs.  Without changing the `wait_n_seconds()` function, use `patch` to make it so calling `wait_n_seconds(1000)` runs in no time!"
   ]
  },
  {
   "cell_type": "code",
   "execution_count": null,
   "metadata": {},
   "outputs": [],
   "source": [
    "def wait_n_seconds(n):\n",
    "    import time\n",
    "    ms = n * 1000\n",
    "    while ms > 0:\n",
    "        ms = ms - 100\n",
    "        time.sleep(0.1)"
   ]
  },
  {
   "cell_type": "code",
   "execution_count": null,
   "metadata": {},
   "outputs": [],
   "source": [
    "# Turns time.sleep into a Mock object.\n",
    "with patch('time.sleep') as mock_sleep:   \n",
    "    wait_n_seconds(1000)\n"
   ]
  },
  {
   "cell_type": "markdown",
   "metadata": {},
   "source": [
    "**Exercise**: Below is the `am_i_lucky()` function, which returns `True` if the random number generator `random.randint` happens to return the number `42`.  Without changing the `am_i_lucky()` function, use `patch` to make it so you are lucky every time!"
   ]
  },
  {
   "cell_type": "code",
   "execution_count": null,
   "metadata": {},
   "outputs": [],
   "source": [
    "def am_i_lucky():\n",
    "    random_num = random.randint(1, 100000)\n",
    "    if random_num == 42:\n",
    "        print('You win!')\n",
    "        return True\n",
    "    else:\n",
    "        print('You lose.`')\n",
    "        return False\n",
    "    \n"
   ]
  },
  {
   "cell_type": "markdown",
   "metadata": {},
   "source": [
    "**Exercise**: Below is the function `get_area_of_circle()`, which uses `estimate_pi()` to work.  The only problem is, the `estimate_pi()` function is really slow!  Without changing either of the functions, use `patch` to:\n",
    "  - Make `get_area_of_circle()` run very quickly.\n",
    "  - Test that the `get_area_of_circle()` function works exactly correctly (i.e. it calcules $area = \\pi r^2 $)\n",
    "\n",
    "Hint: `patch()` requires a module name in order to work.  to patch a function in the main namespace (i.e. not in another library), the module name is `__main__` (e.g. `__main__.estimate_pi`)"
   ]
  },
  {
   "cell_type": "code",
   "execution_count": null,
   "metadata": {},
   "outputs": [],
   "source": [
    "def get_area_of_circle(radius):\n",
    "    pi = estimate_pi()\n",
    "    area = pi * radius ** 2\n",
    "    return area\n",
    "\n",
    "\n",
    "def estimate_pi():\n",
    "    inside_circle, num_samples = 0, 4000000\n",
    "    for _ in range(num_samples):\n",
    "        x, y = random.uniform(-1, 1), random.uniform(-1, 1)\n",
    "        if x**2 + y**2 <= 1:\n",
    "            inside_circle += 1\n",
    "    return 4 * inside_circle / num_samples"
   ]
  },
  {
   "cell_type": "markdown",
   "metadata": {},
   "source": [
    "## 4. Patching with Side Effects\n",
    "\n",
    "Sometimes, we a mock that does not just return the same value all of the time but actually does something with the parameters that are passed to the mocked function.\n",
    "This is were side effects come in.\n",
    "Where a `return_value` provides a constant value for a function, a `side_effect` provides another function that is called instead of the mocked code.\n",
    "With side effects, we can define our mocks so that they behave similarly to the real code they are patching and make sure they produce the outputs that are expected by other parts of our program."
   ]
  },
  {
   "cell_type": "markdown",
   "metadata": {},
   "source": [
    "**Example**: Below is the `wait_n_seconds()` function we patched before. However, earlier we simply replaced `time.sleep` with a mock that did nothing. Now, we want to replace it with another function that, instead of actually waiting just prints out the duration we would have waited."
   ]
  },
  {
   "cell_type": "code",
   "execution_count": null,
   "metadata": {},
   "outputs": [],
   "source": [
    "def wait_n_seconds(n):\n",
    "    import time\n",
    "    ms = n * 1000\n",
    "    while ms > 0:\n",
    "        ms = ms - 100\n",
    "        time.sleep(0.1)"
   ]
  },
  {
   "cell_type": "markdown",
   "metadata": {},
   "source": [
    "To do this we can create a new function that takes in a value `t` and prints `\"sleeping for t\"`.\n",
    "Then we pass `print_sleep` as a `side_effect` to our mock.\n",
    "Now our function is executed when the mock is called so that when `time.sleep(0.1)` is called in `wait_n_seconds()` we are actually calling `print_sleep(0.1)`"
   ]
  },
  {
   "cell_type": "code",
   "execution_count": null,
   "metadata": {},
   "outputs": [],
   "source": [
    "def print_sleep(t):\n",
    "    print(\"sleeping for \" + str(t))\n",
    "\n",
    "with patch('time.sleep') as mock_sleep:\n",
    "    mock_sleep.side_effect = print_sleep \n",
    "    wait_n_seconds(1000)\n"
   ]
  },
  {
   "cell_type": "markdown",
   "metadata": {},
   "source": [
    "**Exercise**: Patch the `record_data` function using a side effect so that, instead of calling `np.savetxt`, the function calls a new function `print_data()` that just prints out what data you stored and where you stored it.\n",
    "\n",
    "(Hint: since `np.savetxt` is imported into the current namespace you have to call it as `\"__main__.np.savetxt\"`)"
   ]
  },
  {
   "cell_type": "code",
   "execution_count": null,
   "metadata": {},
   "outputs": [],
   "source": [
    "import numpy as np\n",
    "def record_data():\n",
    "    np.savetxt('mydata1.txt', [1, 2, 3])\n",
    "    "
   ]
  },
  {
   "cell_type": "markdown",
   "metadata": {},
   "source": [
    "**Exercise**: Patch the `wait_key` function using a side effect so that, instead of calling `waitKeys()`, the function calls a new function `return_key()` that just returns the key from the `keyList` passed to `waitKeys()` without waiting.\n",
    "Use the mock to `assert` that `wait_key(\"a\")` returns `\"a\"`.\n",
    "\n",
    "(Hint: since `np.savetxt` is imported into the current namespace you have to call it as `\"__main__.waitKeys\"`)"
   ]
  },
  {
   "cell_type": "code",
   "execution_count": null,
   "metadata": {},
   "outputs": [],
   "source": [
    "from psychopy.event import waitKeys\n",
    "\n",
    "def wait_key(keyList=[\"space\"]):\n",
    "    key = waitKeys(keyList=keyList)[0]\n",
    "    return key"
   ]
  },
  {
   "cell_type": "markdown",
   "metadata": {},
   "source": [
    "## BONUS: Mocking Encrtption for Logins"
   ]
  },
  {
   "cell_type": "markdown",
   "metadata": {},
   "source": [
    "Below is the function `login()`, which takes in a `username` and a `password` and uses a hash algorithm to transform those data to a secure format. Then, the `.hexdigest()` method transforms the enctypted password int a readable string of letters ready to be sent off to a website.\n",
    "\n",
    "This way, we can login to a website and even if our transfer is intercepted, our password can not be decrypted.\n",
    "This is great, but it poses a challenge to testing: how can the code that reads out the `hash` know whether it is valid?\n",
    "\n",
    "To solve this problem, use `patch` to:\n",
    "\n",
    "- patch the `hashlib.sha256` function as `hasher`\n",
    "- inside the `patch` context, create a Mock object called `hash`\n",
    "- give the `hash` mock a `hexdigest` attribute with a `return_value`\n",
    "- use the `hash` mock as return value of the `hasher` that patches `hashlib.sha256`\n",
    "\n",
    "Then:\n",
    "\n",
    "- `assert` that, when the mock has the return value `'dd130a'`, `login()` returns `'logged in.'`\n",
    "- `assert` that, when the mock has a different return value, `login()` returns `'invalid credentials.'`"
   ]
  },
  {
   "cell_type": "markdown",
   "metadata": {},
   "source": [
    "patch the `hashlib.sha256` function as `hasher`\n",
    "    - inside the `patch` context, create a Mock object called `hash`\n",
    "    - give the `hash` mock a `hexdigest` attribute with a `return_value`\n",
    "    - use the `hash` mock as return value of the `hasher` that patches `hashlib.sha256`"
   ]
  },
  {
   "cell_type": "code",
   "execution_count": null,
   "metadata": {},
   "outputs": [],
   "source": [
    "import hashlib\n",
    "\n",
    "def login(username: str, password: str):\n",
    "    hash = hashlib.sha256(username.encode() + password.encode()).hexdigest()\n",
    "    print(hash)\n",
    "    is_valid = hash[:6] == 'dd130a'\n",
    "    if is_valid:\n",
    "        return 'logged in.'\n",
    "    else:\n",
    "        return 'invalid credentials.'"
   ]
  }
 ],
 "metadata": {
  "kernelspec": {
   "display_name": "psychopy",
   "language": "python",
   "name": "python3"
  },
  "language_info": {
   "codemirror_mode": {
    "name": "ipython",
    "version": 3
   },
   "file_extension": ".py",
   "mimetype": "text/x-python",
   "name": "python",
   "nbconvert_exporter": "python",
   "pygments_lexer": "ipython3",
   "version": "3.10.16"
  }
 },
 "nbformat": 4,
 "nbformat_minor": 2
}
