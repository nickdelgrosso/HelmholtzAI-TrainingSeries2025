{
 "cells": [
  {
   "cell_type": "markdown",
   "id": "8558ee79",
   "metadata": {},
   "source": [
    "# 1. Introduction to Unit Testing"
   ]
  },
  {
   "cell_type": "markdown",
   "id": "c242c04a",
   "metadata": {},
   "source": [
    "Unit tests check that small pieces of code (usually functions) behave as expected.\n",
    "\n",
    "In Python, we often write unit tests with `pytest`. You simply write functions starting with `test_` and use plain `assert` statements."
   ]
  },
  {
   "cell_type": "markdown",
   "id": "b1397d09",
   "metadata": {},
   "source": [
    "| Term        | Meaning                                      |\n",
    "|-------------|----------------------------------------------|\n",
    "| Unit test   | Tests one small function or method           |\n",
    "| Integration | Tests multiple units working together        |\n",
    "| System      | Tests the full system end-to-end             |"
   ]
  },
  {
   "cell_type": "markdown",
   "id": "9a8c01af",
   "metadata": {},
   "source": [
    "**Exercise:**\n",
    "\n",
    "Write a simple test for the built-in `sum` function. Try changing it so the test fails."
   ]
  },
  {
   "cell_type": "code",
   "execution_count": null,
   "id": "127a9f3f",
   "metadata": {},
   "outputs": [],
   "source": [
    "%%ipytest\n",
    "\n",
    "def test_sum_1_2_is_3():\n",
    "    assert sum([1, 2]) == 3"
   ]
  },
  {
   "cell_type": "markdown",
   "id": "4d2b2e7d",
   "metadata": {},
   "source": [
    "# 2. Parametrization with pytest"
   ]
  },
  {
   "cell_type": "markdown",
   "id": "e6915880",
   "metadata": {},
   "source": [
    "Instead of writing many similar tests, pytest lets you parametrize a test with different inputs/outputs."
   ]
  },
  {
   "cell_type": "markdown",
   "id": "4d714af8",
   "metadata": {},
   "source": [
    "| Decorator                  | What it does                       |\n",
    "|-----------------------------|------------------------------------|\n",
    "| `@pytest.mark.parametrize`  | Run the same test with many values |"
   ]
  },
  {
   "cell_type": "markdown",
   "id": "aec1af0a",
   "metadata": {},
   "source": [
    "**Exercise:**\n",
    "\n",
    "Use `@pytest.mark.parametrize` to test `sum()` with several different lists of numbers."
   ]
  },
  {
   "cell_type": "code",
   "execution_count": null,
   "id": "0baecc70",
   "metadata": {},
   "outputs": [],
   "source": [
    "import pytest\n",
    "\n",
    "%%ipytest\n",
    "\n",
    "@pytest.mark.parametrize(\"values, expected\", [\n",
    "    ([1, 2], 3),\n",
    "    ([3, 4], 7),\n",
    "    ([10, -2], 8),\n",
    "])\n",
    "def test_sum(values, expected):\n",
    "    assert sum(values) == expected"
   ]
  },
  {
   "cell_type": "markdown",
   "id": "67cef0fc",
   "metadata": {},
   "source": [
    "# 3. Fixtures"
   ]
  },
  {
   "cell_type": "markdown",
   "id": "88efa5d1",
   "metadata": {},
   "source": [
    "`pytest` fixtures let you reuse setup code. A fixture is a function decorated with `@pytest.fixture` that returns some data. Tests can then use it by name."
   ]
  },
  {
   "cell_type": "markdown",
   "id": "e1565601",
   "metadata": {},
   "source": [
    "| Keyword            | Meaning                                |\n",
    "|-------------------|----------------------------------------|\n",
    "| `@pytest.fixture` | Marks a function as a fixture          |\n",
    "| yield/return      | Provides the object for the test       |"
   ]
  },
  {
   "cell_type": "markdown",
   "id": "e219c0c3",
   "metadata": {},
   "source": [
    "**Exercise:**\n",
    "\n",
    "Create a fixture that returns a small list of numbers, and write a test that checks their sum."
   ]
  },
  {
   "cell_type": "code",
   "execution_count": null,
   "id": "fc8cd45c",
   "metadata": {},
   "outputs": [],
   "source": [
    "import pytest\n",
    "\n",
    "@pytest.fixture\n",
    "def number_list():\n",
    "    return [1, 2, 3]\n",
    "\n",
    "%%ipytest\n",
    "\n",
    "def test_sum_list(number_list):\n",
    "    assert sum(number_list) == 6"
   ]
  },
  {
   "cell_type": "markdown",
   "id": "42fa7ac6",
   "metadata": {},
   "source": [
    "# 4. Mocking"
   ]
  },
  {
   "cell_type": "markdown",
   "id": "eb425f5e",
   "metadata": {},
   "source": [
    "Mocks replace parts of your system under test so you can isolate behavior.\n",
    "\n",
    "For example, if a function makes an API call, you can replace that call with a fake that returns controlled data."
   ]
  },
  {
   "cell_type": "markdown",
   "id": "5917178b",
   "metadata": {},
   "source": [
    "| Tool                    | Use                                   |\n",
    "|-------------------------|--------------------------------------|\n",
    "| `Mock()`                | Create a fake object                 |\n",
    "| `mock.return_value`     | Define return value of a mock         |\n",
    "| `patch('module.func')`  | Temporarily replace a function/object |"
   ]
  },
  {
   "cell_type": "markdown",
   "id": "4bede3cf",
   "metadata": {},
   "source": [
    "**Exercise:**\n",
    "\n",
    "Write a function that calls another function. Then use `unittest.mock` to replace the inner function with a fake that returns what you want."
   ]
  },
  {
   "cell_type": "code",
   "execution_count": null,
   "id": "0de57be1",
   "metadata": {},
   "outputs": [],
   "source": [
    "from unittest.mock import Mock\n",
    "\n",
    "# function under test\n",
    "def greet(fetch_name):\n",
    "    return f\"Hello, {fetch_name()}!\"\n",
    "\n",
    "%%ipytest\n",
    "\n",
    "def test_greet_with_mock():\n",
    "    fake = Mock(return_value=\"Alice\")\n",
    "    assert greet(fake) == \"Hello, Alice!\"\n",
    "    fake.assert_called_once()"
   ]
  },
  {
   "cell_type": "markdown",
   "id": "6fe25d5b",
   "metadata": {},
   "source": [
    "# 5. Property-based Testing with Hypothesis"
   ]
  },
  {
   "cell_type": "markdown",
   "id": "3c3c6891",
   "metadata": {},
   "source": [
    "Sometimes we don't know the exact answer, but we know properties that must always hold.\n",
    "\n",
    "Property-based testing uses a library like `hypothesis` to generate many random inputs automatically."
   ]
  },
  {
   "cell_type": "markdown",
   "id": "321125a7",
   "metadata": {},
   "source": [
    "| Function/decorator       | Use                                |\n",
    "|---------------------------|-----------------------------------|\n",
    "| `@given(strategy)`        | Run test with generated inputs    |\n",
    "| `st.lists(st.integers())` | Strategy: list of integers        |\n",
    "| `st.floats()`             | Strategy: floating-point numbers  |"
   ]
  },
  {
   "cell_type": "markdown",
   "id": "15277be6",
   "metadata": {},
   "source": [
    "**Exercise:**\n",
    "\n",
    "Use `hypothesis` to test that the sum of a non-empty list of positive integers is always >= each element in the list."
   ]
  },
  {
   "cell_type": "code",
   "execution_count": 1,
   "id": "fe61a382",
   "metadata": {},
   "outputs": [
    {
     "name": "stderr",
     "output_type": "stream",
     "text": [
      "UsageError: Line magic function `%%ipytest` not found.\n"
     ]
    }
   ],
   "source": [
    "from hypothesis import given, strategies as st\n",
    "\n",
    "%%ipytest\n",
    "\n",
    "@given(st.lists(st.integers(min_value=1), min_size=1))\n",
    "def test_sum_nonempty_positive(xs):\n",
    "    total = sum(xs)\n",
    "    for x in xs:\n",
    "        assert total >= x"
   ]
  }
 ],
 "metadata": {
  "kernelspec": {
   "display_name": "default",
   "language": "python",
   "name": "python3"
  },
  "language_info": {
   "codemirror_mode": {
    "name": "ipython",
    "version": 3
   },
   "file_extension": ".py",
   "mimetype": "text/x-python",
   "name": "python",
   "nbconvert_exporter": "python",
   "pygments_lexer": "ipython3",
   "version": "3.12.11"
  }
 },
 "nbformat": 4,
 "nbformat_minor": 5
}
