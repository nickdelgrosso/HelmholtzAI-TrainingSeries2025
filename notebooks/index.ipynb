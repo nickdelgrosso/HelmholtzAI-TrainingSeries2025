{
 "cells": [
  {
   "cell_type": "raw",
   "id": "3fb03f83",
   "metadata": {
    "vscode": {
     "languageId": "raw"
    }
   },
   "source": [
    "---\n",
    "title: Session Plan\n",
    "draft: false\n",
    "---"
   ]
  },
  {
   "cell_type": "markdown",
   "id": "cf143980",
   "metadata": {},
   "source": [
    "##### Welcome to the course!"
   ]
  },
  {
   "cell_type": "markdown",
   "id": "2ab20301",
   "metadata": {},
   "source": [
    "This is something else, isn't it?"
   ]
  }
 ],
 "metadata": {
  "language_info": {
   "name": "python"
  }
 },
 "nbformat": 4,
 "nbformat_minor": 5
}
