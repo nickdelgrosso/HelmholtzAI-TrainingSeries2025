{
 "cells": [
  {
   "cell_type": "raw",
   "id": "3fb03f83",
   "metadata": {
    "vscode": {
     "languageId": "raw"
    }
   },
   "source": [
    "---\n",
    "title: Workshop Series Overview\n",
    "description: \"A collaborative training series on scientific software development practices.\"\n",
    "draft: false\n",
    "---"
   ]
  },
  {
   "cell_type": "markdown",
   "id": "2ab20301",
   "metadata": {},
   "source": [
    "# Welcome!\n",
    "\n",
    "This training program is designed especially for **early-career professionals**, such as the **Helmholtz AI consultants**, who bring strong domain expertise to short-term (3–12 month) consulting projects in machine learning applications. Many of you are working in **bioinformatics, neuroscience, and related domains**, but the skills taught here are broadly relevant across data-intensive research.\n",
    "\n",
    "The focus of this series is not just on *coding*, but on learning the **software development practices** that make research projects easier to **collaborate on, maintain, and scale**. These practices are critical for professionals like you, who must quickly build reliable solutions in fast-moving projects, while working with diverse collaborators.\n",
    "\n",
    "---\n",
    "\n",
    "## Schedule\n",
    "\n",
    "The series runs across 8 sessions. Each session includes a mixture of **concepts, hands-on practice, and applied discussion**. Details are still being finalized, but here is the overall plan:\n",
    "\n",
    "|  | Session | Date | Description |\n",
    "|------|---------|------|-------------|\n",
    "|  | Session 1 | October 6th, 2025 | Introduction, Tools and workflows for effective coding in teams using Git and GitHub |\n",
    "|  | Session 2 | TBD |  |\n",
    "|  | Session 3 | TBD |  |\n",
    "|  | Session 4 | TBD |  |\n",
    "|  | Session 5 | TBD |  |\n",
    "|  | Session 6 | TBD |  |\n",
    "|  | Session 7 | TBD |  |\n",
    "|  | Session 8 | TBD |  |\n",
    "\n",
    "---\n",
    "\n",
    "## Structure of Each Session\n",
    "\n",
    "Each workshop is carefully structured to maximize both learning and application:\n",
    "\n",
    "1. **Pre-workshop materials**  \n",
    "   - Participants receive short readings, tutorials, or coding exercises to **onboard** and **review fundamentals**.  \n",
    "   - A dedicated **GitHub Discussions forum** provides space for questions and answers before the live session.  \n",
    "\n",
    "2. **Workshop session**  \n",
    "   - Live, interactive session focused on **group problem solving**.  \n",
    "   - Includes both **toy examples** (to learn concepts in a safe sandbox) and **applied breakouts** using real projects contributed by participants.  \n",
    "\n",
    "3. **Follow-up and consulting**  \n",
    "   - After each session, I am available for **one-on-one or small group consulting**, helping participants apply the practices to their **own consulting projects**.  \n",
    "\n",
    "4. **Team reflection and planning**  \n",
    "   - The Helmholtz AI consulting team meets to **reflect** on the past session, and to discuss how to **steer the direction** of the training series for upcoming sessions.  \n",
    "\n",
    "---\n",
    "\n",
    "## Why This Matters\n",
    "\n",
    "Building scientific machine learning applications is not only about models and data. For consultants working on short-term projects, **the way you build your code matters as much as what it does**. By strengthening your skills in collaborative development, testing, reproducibility, and project design, you will:\n",
    "\n",
    "- Deliver **higher quality solutions** to collaborators.  \n",
    "- Make your work easier to **hand over and sustain** after the consulting period ends.  \n",
    "- Build skills that will continue to pay off throughout your career, regardless of domain.  \n",
    "\n",
    "This series is about **raising the baseline of scientific software development** — so that every project you work on is not just effective in the short term, but also **maintainable, scalable, and reproducible** in the long run.  \n"
   ]
  }
 ],
 "metadata": {
  "language_info": {
   "name": "python"
  }
 },
 "nbformat": 4,
 "nbformat_minor": 5
}
