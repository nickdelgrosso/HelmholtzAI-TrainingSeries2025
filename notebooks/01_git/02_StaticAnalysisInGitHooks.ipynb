{
 "cells": [
  {
   "cell_type": "raw",
   "id": "e596ca4a",
   "metadata": {
    "vscode": {
     "languageId": "raw"
    }
   },
   "source": [
    "---\n",
    "weight: 120\n",
    "title: \"Exercise: Integrating Dev Tooling into Git\"\n",
    "description: \"this is adfaf afdsaf\"\n",
    "icon: \"article\"\n",
    "draft: false\n",
    "toc: true\n",
    "---"
   ]
  },
  {
   "cell_type": "markdown",
   "id": "b9aaa827",
   "metadata": {},
   "source": [
    "### Configuring the Pre-Commit Tool\n",
    "\n",
    "```yaml\n",
    "# .pre-commit-config.yaml\n",
    "repos:\n",
    "  - repo: https://github.com/pre-commit/pre-commit-hooks\n",
    "    rev: v4.4.0\n",
    "    hooks:\n",
    "      - id: trailing-whitespace\n",
    "      - id: end-of-file-fixer\n",
    "```"
   ]
  },
  {
   "cell_type": "markdown",
   "id": "4c2e4a35",
   "metadata": {},
   "source": "## Pre-commit Hook Reference\n\n| Hook | Description |\n|------|-------------|\n| [`trailing-whitespace`](https://github.com/pre-commit/pre-commit-hooks) | Removes trailing whitespace from the end of lines in files. |\n| [`end-of-file-fixer`](https://github.com/pre-commit/pre-commit-hooks) | Ensures files end with a newline character. |\n| [`check-json`](https://github.com/pre-commit/pre-commit-hooks) | Validates JSON files for syntax errors. |\n| [`check-yaml`](https://github.com/pre-commit/pre-commit-hooks) | Validates YAML files for syntax errors. |\n| [`check-toml`](https://github.com/pre-commit/pre-commit-hooks) | Validates TOML files for syntax errors. |\n| [`check-added-large-files`](https://github.com/pre-commit/pre-commit-hooks) | Prevents committing files larger than a specified size threshold. |\n| [`black`](https://github.com/psf/black) | Automatically formats Python code to conform to the Black style guide. |\n| [`isort`](https://github.com/pycqa/isort) | Sorts and organizes Python import statements. |\n| [`flake8`](https://github.com/pycqa/flake8) | Checks Python code for style violations and common errors. |\n| [`ruff`](https://github.com/astral-sh/ruff-pre-commit) | Fast Rust-based linter that replaces flake8, isort, and other Python tools. |\n| [`ruff-format`](https://github.com/astral-sh/ruff-pre-commit) | Fast Rust-based formatter that serves as a drop-in replacement for Black. |\n| [`nbqa-black`](https://github.com/nbQA-dev/nbQA) | Runs Black formatter on Python code cells within Jupyter notebooks. |\n| [`nbqa-isort`](https://github.com/nbQA-dev/nbQA) | Runs isort on import statements in Jupyter notebook code cells. |\n| [`nbqa-ruff`](https://github.com/nbQA-dev/nbQA) | Runs ruff linter on Python code cells within Jupyter notebooks. |\n| [`nbstripout`](https://github.com/kynan/nbstripout) | Strips output cells from Jupyter notebooks before committing. |"
  },
  {
   "cell_type": "markdown",
   "id": "c8a3d3d1",
   "metadata": {},
   "source": [
    "## Exercise: Integrating Dev Tooling into Git\n",
    "\n",
    "1. Fork the Repository at <url will be put here later>.\n",
    "2. Clone your forked repo to a local repository.\n",
    "3. Set up 5 checks, repeating the following procdure **One Checker Tool at a Time**:\n",
    "    1. Choose a static analysis checking tool you'd like to add to the set of checks on the repo.\n",
    "    2. Create and switch to a New Git feature branch named: `feature-<check-tool>`.\n",
    "    3. In a file called [`.pre-commit-config.yaml`](https://github.com/pre-commit/pre-commit-hooks?tab=readme-ov-file#using-pre-commit-hooks-with-pre-commit) in the root directory, add the checker tool.\n",
    "    4. Run the tool, and correct the code until it passes: `pre-commit run <check-tool> -v`.\n",
    "    5. Run all the checks, and correct the code until it passes: `pre-commit run all`.\n",
    "    6. Register the checks with the Git Hooks system: `pre-commit install`.\n",
    "    7. Commit your changes, confirming that the checks run automatically.\n",
    "    8. Merge the feature branch into the `main` branch, and delete the feature branch.\n",
    "    9. Push to `main` in GitHub."
   ]
  }
 ],
 "metadata": {
  "kernelspec": {
   "display_name": "default",
   "language": "python",
   "name": "python3"
  },
  "language_info": {
   "codemirror_mode": {
    "name": "ipython",
    "version": 3
   },
   "file_extension": ".py",
   "mimetype": "text/x-python",
   "name": "python",
   "nbconvert_exporter": "python",
   "pygments_lexer": "ipython3",
   "version": "3.12.11"
  }
 },
 "nbformat": 4,
 "nbformat_minor": 5
}
