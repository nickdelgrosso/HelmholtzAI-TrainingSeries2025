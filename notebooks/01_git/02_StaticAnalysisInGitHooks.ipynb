{
 "cells": [
  {
   "cell_type": "raw",
   "id": "e596ca4a",
   "metadata": {
    "vscode": {
     "languageId": "raw"
    }
   },
   "source": "---\nweight: 120\ntitle: \"Integrating Static Analysis with Git Hooks\"\ndescription: \"Learn how to automate code quality checks using git hooks and the pre-commit framework for more reliable, maintainable research software.\"\nicon: \"article\"\ndraft: false\ntoc: true\n---"
  },
  {
   "cell_type": "markdown",
   "id": "rnc9vn19q9d",
   "source": "## Introduction\n\nAs a research software engineer, you're often working on small-to-medium projects with one or two collaborators. Code quality matters—not just for your own sanity when you revisit code months later, but also for building trust with collaborators and ensuring reproducible results. Yet setting up extensive CI/CD pipelines can feel like overkill for a project with two contributors.\n\nThis is where **automated static analysis integrated with Git** becomes invaluable. By catching issues *before* they enter your repository, you embrace a core principle of lean software development: **detect problems at the earliest, cheapest point possible**. Instead of discovering formatting inconsistencies during code review, or worse, debugging style-related issues weeks later, you catch them in seconds—right when you try to commit.\n\n### Why This Matters for Small Projects\n\nIn small research teams, you need workflows that are:\n- **Lightweight**: No complex infrastructure to maintain\n- **Immediate**: Fast feedback loops that don't interrupt flow\n- **Consistent**: Same standards applied automatically, every time\n- **Educational**: Tools that help you write better code, not just police it\n\nGit hooks with pre-commit checks deliver all of this. They work locally (no CI server needed), run in seconds, and gradually teach better coding practices through immediate feedback.",
   "metadata": {}
  },
  {
   "cell_type": "markdown",
   "id": "zj5gi6gu7zr",
   "source": "## What Are Git Hooks?\n\nGit hooks are scripts that run automatically at specific points in your Git workflow. They live in the `.git/hooks/` directory of every Git repository. You can think of them as \"event listeners\" for Git operations.\n\n### Common Hook Types\n\nGit provides several hooks, but the most useful for code quality are:\n\n- **pre-commit**: Runs before a commit is created (perfect for checking code style)\n- **pre-push**: Runs before pushing to a remote (good for running tests)\n- **commit-msg**: Runs after you write a commit message (useful for enforcing message conventions)\n\nYou can see what hooks are available by looking in your repository:\n\n```bash\nls .git/hooks/\n# You'll see sample files like pre-commit.sample, pre-push.sample, etc.\n```\n\n### The Challenge with Raw Git Hooks\n\nWhile powerful, managing Git hooks manually has drawbacks:\n- Hook scripts must be executable and written in shell/Python/Ruby/etc.\n- They're not tracked in version control (`.git/` is not committed)\n- Each team member must set them up independently\n- No easy way to share hook configurations across projects\n- Managing dependencies for hook scripts is cumbersome\n\nThis is where the **pre-commit framework** comes in.",
   "metadata": {}
  },
  {
   "cell_type": "markdown",
   "id": "2h0q2dt5jzy",
   "source": "## The Pre-Commit Framework\n\n[Pre-commit](https://pre-commit.com/) is a framework that makes Git hooks easy to manage and share. Instead of writing hook scripts, you declare what checks you want in a configuration file (`.pre-commit-config.yaml`), and pre-commit handles the rest—including installing dependencies, managing virtual environments, and running the checks.\n\n### Installation\n\n```bash\npip install pre-commit\n# or\nconda install -c conda-forge pre-commit\n```\n\n### Key Commands\n\nHere are the essential pre-commit commands you'll use:\n\n| Command | Description |\n|---------|-------------|\n| `pre-commit install` | Install hooks into your Git repository (one-time setup) |\n| `pre-commit run --all-files` | Run all hooks on all files (useful for initial setup) |\n| `pre-commit run <hook-id>` | Run a specific hook (e.g., `pre-commit run black`) |\n| `pre-commit run --files <file>` | Run hooks on specific files |\n| `pre-commit autoupdate` | Update hook versions in your config file |\n| `pre-commit uninstall` | Remove hooks from your repository |\n| `pre-commit run --all-files --verbose` | Run all hooks with detailed output |\n\n### How It Works\n\n1. You create a `.pre-commit-config.yaml` file in your repository root\n2. You run `pre-commit install` to set up the hooks\n3. Every time you `git commit`, pre-commit automatically runs your configured checks\n4. If any check fails, the commit is blocked until you fix the issues\n5. Many hooks auto-fix issues (like formatting), so you just `git add` the fixes and commit again",
   "metadata": {}
  },
  {
   "cell_type": "markdown",
   "id": "b9aaa827",
   "metadata": {},
   "source": "### Configuration File Structure\n\nThe `.pre-commit-config.yaml` file defines which hooks to run. Here's the basic structure:\n\n```yaml\n# .pre-commit-config.yaml\nrepos:\n  - repo: https://github.com/pre-commit/pre-commit-hooks\n    rev: v4.4.0  # Version/tag to use\n    hooks:\n      - id: trailing-whitespace  # Hook identifier\n      - id: end-of-file-fixer\n        \n  - repo: https://github.com/psf/black\n    rev: 24.4.2\n    hooks:\n      - id: black\n        language_version: python3  # Optional: specify Python version\n```\n\nEach repository can provide multiple hooks. You specify which ones you want by their `id`."
  },
  {
   "cell_type": "markdown",
   "id": "tr7yxb9bnf",
   "source": "## Quick Win: Your First Pre-Commit Hook\n\nLet's see immediate value with a minimal example. Create a `.pre-commit-config.yaml` file:\n\n```yaml\nrepos:\n  - repo: https://github.com/pre-commit/pre-commit-hooks\n    rev: v4.4.0\n    hooks:\n      - id: trailing-whitespace\n      - id: end-of-file-fixer\n```\n\nThen install and test:\n\n```bash\n# Install the hooks\npre-commit install\n\n# Run on all files to see what needs fixing\npre-commit run --all-files\n\n# You'll see output like:\n# Trim Trailing Whitespace............................Failed\n# Fix End of Files....................................Failed\n```\n\nPre-commit will automatically fix these issues! Just stage the changes and commit:\n\n```bash\ngit add -u\ngit commit -m \"Set up pre-commit hooks\"\n# This time the hooks pass and the commit succeeds\n```\n\n**You've just automated two quality checks with ~10 lines of YAML.** Now these checks run on every commit, catching issues before they enter your history.",
   "metadata": {}
  },
  {
   "cell_type": "markdown",
   "id": "4c2e4a35",
   "metadata": {},
   "source": "## Pre-commit Hook Reference\n\n| Hook | Description |\n|------|-------------|\n| [`trailing-whitespace`](https://github.com/pre-commit/pre-commit-hooks) | Removes trailing whitespace from the end of lines in files. |\n| [`end-of-file-fixer`](https://github.com/pre-commit/pre-commit-hooks) | Ensures files end with a newline character. |\n| [`check-json`](https://github.com/pre-commit/pre-commit-hooks) | Validates JSON files for syntax errors. |\n| [`check-yaml`](https://github.com/pre-commit/pre-commit-hooks) | Validates YAML files for syntax errors. |\n| [`check-toml`](https://github.com/pre-commit/pre-commit-hooks) | Validates TOML files for syntax errors. |\n| [`check-added-large-files`](https://github.com/pre-commit/pre-commit-hooks) | Prevents committing files larger than a specified size threshold. |\n| [`black`](https://github.com/psf/black) | Automatically formats Python code to conform to the Black style guide. |\n| [`isort`](https://github.com/pycqa/isort) | Sorts and organizes Python import statements. |\n| [`flake8`](https://github.com/pycqa/flake8) | Checks Python code for style violations and common errors. |\n| [`ruff`](https://github.com/astral-sh/ruff-pre-commit) | Fast Rust-based linter that replaces flake8, isort, and other Python tools. |\n| [`ruff-format`](https://github.com/astral-sh/ruff-pre-commit) | Fast Rust-based formatter that serves as a drop-in replacement for Black. |\n| [`nbqa-black`](https://github.com/nbQA-dev/nbQA) | Runs Black formatter on Python code cells within Jupyter notebooks. |\n| [`nbqa-isort`](https://github.com/nbQA-dev/nbQA) | Runs isort on import statements in Jupyter notebook code cells. |\n| [`nbqa-ruff`](https://github.com/nbQA-dev/nbQA) | Runs ruff linter on Python code cells within Jupyter notebooks. |\n| [`nbstripout`](https://github.com/kynan/nbstripout) | Strips output cells from Jupyter notebooks before committing. |"
  },
  {
   "cell_type": "markdown",
   "id": "c8a3d3d1",
   "metadata": {},
   "source": "## Hands-On Exercise: Building a Complete Pre-Commit Setup\n\n**Time estimate: 40 minutes**\n\n### Learning Objectives\n\nBy the end of this exercise, you will:\n- Understand how to add multiple static analysis tools to a repository\n- Practice an iterative, branch-based workflow for adding quality checks\n- Experience the immediate feedback loop of automated code quality tools\n- Build confidence configuring tools for Python projects (including Jupyter notebooks)\n\n### Why This Workflow?\n\nYou'll add checks **one at a time** using feature branches. This mirrors real-world practice where you:\n1. Don't overwhelm your codebase (or yourself) with 10 new checks at once\n2. Can verify each tool works correctly before moving on\n3. Get clean, focused commits that are easy to review and understand\n4. Learn to fix issues specific to each tool without confusion\n\n### Instructions\n\n1. **Fork and clone** the repository at <url will be put here later>.\n\n2. **Install pre-commit** if you haven't already:\n   ```bash\n   pip install pre-commit\n   ```\n\n3. **Repeat the following procedure for 5 different checker tools** (choose from the reference table below):\n\n   a. **Choose a tool** you'd like to add (start with auto-fixers like `black` or `trailing-whitespace` for quick wins)\n   \n   b. **Create a feature branch**:\n      ```bash\n      git checkout -b feature-<tool-name>\n      ```\n   \n   c. **Add the tool** to `.pre-commit-config.yaml` in the root directory (see reference table below for configuration)\n   \n   d. **Run the specific tool** and fix issues until it passes:\n      ```bash\n      pre-commit run <hook-id> --all-files --verbose\n      ```\n   \n   e. **Run all checks** to ensure nothing broke:\n      ```bash\n      pre-commit run --all-files\n      ```\n   \n   f. **Install/update hooks** (if first time, or to refresh):\n      ```bash\n      pre-commit install\n      ```\n   \n   g. **Commit your changes** (the hooks run automatically):\n      ```bash\n      git add .\n      git commit -m \"Add <tool-name> pre-commit hook\"\n      ```\n   \n   h. **Merge to main** and clean up:\n      ```bash\n      git checkout main\n      git merge feature-<tool-name>\n      git branch -d feature-<tool-name>\n      ```\n   \n   i. **Push to GitHub**:\n      ```bash\n      git push origin main\n      ```\n\n4. **Repeat** for 4 more tools. By the end, you'll have a robust, automated quality checking system!"
  },
  {
   "cell_type": "markdown",
   "id": "i2v4vezntyb",
   "source": "## Troubleshooting Tips\n\n### Hook Failed, Now What?\n\nWhen a hook fails, pre-commit gives you detailed output. Here's how to interpret and fix common issues:\n\n**Auto-fixing tools (black, isort, trailing-whitespace)**\n```bash\n# Hook fails and modifies files automatically\n# Solution: Just add the changes and commit again\ngit add -u\ngit commit -m \"Your message\"  # Now it passes!\n```\n\n**Linting tools (flake8, ruff)**\n```bash\n# Hook fails with error messages but doesn't fix them\n# Solution: Read the errors, fix manually, then commit\n# Example: \"line too long\" -> break the line\n# Example: \"unused import\" -> remove the import\n```\n\n### Common Issues\n\n**\"Hook not found\" or \"command not found\"**\n- Run `pre-commit install` to set up hooks after cloning\n- Run `pre-commit clean` then `pre-commit install --install-hooks` to force reinstall\n\n**Hooks are really slow**\n- First run is slow (installing tools), subsequent runs are fast\n- Use `--files` flag to run on specific files during testing\n\n**Conflicting formatters (black vs. isort)**\n- Configure isort to be compatible with black in `pyproject.toml`:\n  ```toml\n  [tool.isort]\n  profile = \"black\"\n  ```\n\n**Need to skip hooks temporarily**\n```bash\n# Emergency bypass (use sparingly!)\ngit commit --no-verify -m \"Message\"\n```\n\n### Best Practices for Small Teams\n\n1. **Start with auto-fixers**: Add `black`, `isort`, `trailing-whitespace` first—they fix issues automatically\n2. **Add linters gradually**: Introduce `flake8` or `ruff` after formatters are working\n3. **Run on existing code first**: Use `pre-commit run --all-files` before enabling to see scope of changes\n4. **Document team decisions**: Add a comment in `.pre-commit-config.yaml` explaining why you chose specific tools\n5. **Update regularly**: Run `pre-commit autoupdate` monthly to get bug fixes and improvements",
   "metadata": {}
  },
  {
   "cell_type": "markdown",
   "id": "e393tlp1b0j",
   "source": "## Further Reading & References\n\n### Official Documentation\n\n- **[Pre-commit Framework](https://pre-commit.com/)** - Official docs with comprehensive hook catalog\n- **[Pre-commit Hooks Repository](https://github.com/pre-commit/pre-commit-hooks)** - Standard hooks maintained by the pre-commit team\n- **[Git Hooks Documentation](https://git-scm.com/docs/githooks)** - Git's official documentation on hooks\n\n### Python Tools\n\n- **[Black](https://black.readthedocs.io/)** - The uncompromising Python code formatter\n- **[Ruff](https://docs.astral.sh/ruff/)** - Fast Rust-based linter and formatter for Python\n- **[isort](https://pycqa.github.io/isort/)** - Python import statement organizer\n- **[flake8](https://flake8.pycqa.org/)** - Python style guide enforcement\n- **[nbQA](https://nbqa.readthedocs.io/)** - Adapter for running code quality tools on Jupyter notebooks\n\n### Continuous Integration & Research Software Engineering\n\n- **[The Turing Way: Continuous Integration](https://the-turing-way.netlify.app/reproducible-research/ci.html)** - Best practices for CI in research\n- **[Good Enough Practices in Scientific Computing](https://journals.plos.org/ploscompbiol/article?id=10.1371/journal.pcbi.1005510)** - Practical recommendations for research software\n- **[Research Software Engineering with Python](https://merely-useful.tech/py-rse/)** - Comprehensive guide to professional practices\n\n### Lean & Small-Batch Development\n\n- **[Continuous Delivery](https://continuousdelivery.com/)** - Core principles of small-batch, continuous integration\n- **[The DevOps Handbook](https://itrevolution.com/product/the-devops-handbook/)** - Chapter on continuous integration and trunk-based development\n\n### Advanced Topics\n\n- **[Pre-commit CI](https://pre-commit.ci/)** - Automated service to run pre-commit hooks in GitHub Actions\n- **[Conventional Commits](https://www.conventionalcommits.org/)** - Standardized commit message format (can be enforced via hooks)\n- **[Trunk-Based Development](https://trunkbaseddevelopment.com/)** - Development model that pairs well with pre-commit hooks",
   "metadata": {}
  }
 ],
 "metadata": {
  "kernelspec": {
   "display_name": "default",
   "language": "python",
   "name": "python3"
  },
  "language_info": {
   "codemirror_mode": {
    "name": "ipython",
    "version": 3
   },
   "file_extension": ".py",
   "mimetype": "text/x-python",
   "name": "python",
   "nbconvert_exporter": "python",
   "pygments_lexer": "ipython3",
   "version": "3.12.11"
  }
 },
 "nbformat": 4,
 "nbformat_minor": 5
}
