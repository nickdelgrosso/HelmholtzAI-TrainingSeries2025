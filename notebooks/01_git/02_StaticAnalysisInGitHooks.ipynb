{
 "cells": [
  {
   "cell_type": "raw",
   "id": "e596ca4a",
   "metadata": {
    "vscode": {
     "languageId": "raw"
    }
   },
   "source": [
    "---\n",
    "weight: 120\n",
    "title: \"Exercise: Integrating Dev Tooling into Git\"\n",
    "description: \"this is adfaf afdsaf\"\n",
    "icon: \"article\"\n",
    "draft: false\n",
    "toc: true\n",
    "---"
   ]
  },
  {
   "cell_type": "markdown",
   "id": "c8a3d3d1",
   "metadata": {},
   "source": [
    "## Exercise: Integrating Dev Tooling into Git\n",
    "\n",
    "1. Fork the Repository at <url will be put here later>.\n",
    "2. Clone your forked repo to a local repository.\n",
    "3. Set up 5 checks, repeating the following procdure **One Checker Tool at a Time**:\n",
    "    1. Choose a static analysis checking tool you'd like to add to the set of checks on the repo.\n",
    "    2. Create and switch to a New Git feature branch named: `feature-<check-tool>`.\n",
    "    3. In a file called [`.pre-commit-config.yaml`](https://github.com/pre-commit/pre-commit-hooks?tab=readme-ov-file#using-pre-commit-hooks-with-pre-commit) in the root directory, add the checker tool.\n",
    "    4. Run the tool, and correct the code until it passes: `pre-commit run <check-tool> -v`.\n",
    "    5. Run all the checks, and correct the code until it passes: `pre-commit run all`.\n",
    "    6. Register the checks with the Git Hooks system: `pre-commit install`.\n",
    "    7. Commit your changes, confirming that the checks run automatically.\n",
    "    8. Merge the feature branch into the `main` branch, and delete the feature branch.\n",
    "    9. Push to `main` in GitHub."
   ]
  },
  {
   "cell_type": "raw",
   "id": "a071d210",
   "metadata": {
    "vscode": {
     "languageId": "raw"
    }
   },
   "source": [
    "repos:\n",
    "\n",
    "  # General-purpose hooks (trailing whitespace, EOF fixer, etc.)\n",
    "  - repo: https://github.com/pre-commit/pre-commit-hooks\n",
    "    rev: v4.4.0\n",
    "    hooks:\n",
    "      - id: trailing-whitespace\n",
    "      - id: end-of-file-fixer\n",
    "      - id: check-json\n",
    "      - id: check-yaml\n",
    "      - id: check-toml\n",
    "      - id: check-added-large-files\n",
    "\n",
    "  # Python code formatting (Black)\n",
    "  - repo: https://github.com/psf/black\n",
    "    rev: 24.4.2\n",
    "    hooks:\n",
    "      - id: black\n",
    "        language_version: python3\n",
    "\n",
    "  # Import sorting (isort)\n",
    "  - repo: https://github.com/pycqa/isort\n",
    "    rev: 5.13.2\n",
    "    hooks:\n",
    "      - id: isort\n",
    "        language_version: python3\n",
    "\n",
    "  # Linting (flake8)\n",
    "  - repo: https://github.com/pycqa/flake8\n",
    "    rev: 6.1.0\n",
    "    hooks:\n",
    "      - id: flake8\n",
    "        additional_dependencies: [flake8-bugbear]  # nice set of extra checks\n",
    "\n",
    "  # Notebook formatting (auto-fix)\n",
    "  # - repo: https://github.com/nbQA-dev/nbQA\n",
    "  #   rev: 1.9.1\n",
    "  #   hooks:\n",
    "  #     # - id: nbqa-black\n",
    "  #     #   additional_dependencies: [black==24.4.2]\n",
    "  #     #   args: [\"--settings-path=pyproject.toml\"]\n",
    "  #     - id: nbqa-isort\n",
    "  #       additional_dependencies: [isort==5.13.2]\n",
    "  #       args: [\"--settings-path=pyproject.toml\"]\n",
    "\n",
    "  # # Keep notebooks clean of outputs\n",
    "  # - repo: https://github.com/kynan/nbstripout\n",
    "  #   rev: 0.7.1\n",
    "  #   hooks:\n",
    "  #     - id: nbstripout\n"
   ]
  },
  {
   "cell_type": "markdown",
   "id": "356c6472",
   "metadata": {},
   "source": [
    "## What a Day"
   ]
  },
  {
   "cell_type": "markdown",
   "id": "cd5cf87f",
   "metadata": {},
   "source": []
  }
 ],
 "metadata": {
  "kernelspec": {
   "display_name": "default",
   "language": "python",
   "name": "python3"
  },
  "language_info": {
   "codemirror_mode": {
    "name": "ipython",
    "version": 3
   },
   "file_extension": ".py",
   "mimetype": "text/x-python",
   "name": "python",
   "nbconvert_exporter": "python",
   "pygments_lexer": "ipython3",
   "version": "3.12.11"
  }
 },
 "nbformat": 4,
 "nbformat_minor": 5
}
