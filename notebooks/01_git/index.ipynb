{
 "cells": [
  {
   "cell_type": "raw",
   "id": "466d921c",
   "metadata": {
    "vscode": {
     "languageId": "raw"
    }
   },
   "source": [
    "---\n",
    "weight: 100\n",
    "title: \"1. Git/GitHub: Automation and Collaboration\"\n",
    "description: \"this is adfaf afdsaf\"\n",
    "icon: \"article\"\n",
    "draft: false\n",
    "toc: true\n",
    "---"
   ]
  },
  {
   "cell_type": "code",
   "execution_count": null,
   "id": "c81a2176",
   "metadata": {},
   "outputs": [],
   "source": [
    "import json\n",
    "import os\n",
    "\n",
    "import numpy"
   ]
  },
  {
   "cell_type": "markdown",
   "id": "6ba180f9",
   "metadata": {},
   "source": [
    "## Overview"
   ]
  },
  {
   "cell_type": "markdown",
   "id": "187aaea0",
   "metadata": {},
   "source": [
    "Today, we're be jumping into some of the aspects of `Git` and `GitHub` related to automated code quality checking and collaboration, both in toy examples and in real projects from your team:\n",
    "\n",
    "  - GitHub Pull Requests & Protected Branches to do GitHub Flow Development\n",
    "  - GitHub Remotes & Continuous Integration with GitHub Actions\n",
    "  - Commits with Git & using pre-commit to format and lint code with  nbqa and ruff"
   ]
  }
 ],
 "metadata": {
  "kernelspec": {
   "display_name": "default",
   "language": "python",
   "name": "python3"
  },
  "language_info": {
   "codemirror_mode": {
    "name": "ipython",
    "version": 3
   },
   "file_extension": ".py",
   "mimetype": "text/x-python",
   "name": "python",
   "nbconvert_exporter": "python",
   "pygments_lexer": "ipython3",
   "version": "3.12.11"
  }
 },
 "nbformat": 4,
 "nbformat_minor": 5
}
