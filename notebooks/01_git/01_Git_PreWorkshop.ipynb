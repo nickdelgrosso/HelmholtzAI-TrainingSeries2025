{
 "cells": [
  {
   "cell_type": "raw",
   "id": "6ac8c8cd",
   "metadata": {
    "vscode": {
     "languageId": "raw"
    }
   },
   "source": [
    "---\n",
    "weight: 110\n",
    "title: \"Git Pre-Workshop\"\n",
    "description: \"this is adfaf afdsaf\"\n",
    "icon: \"article\"\n",
    "draft: false\n",
    "toc: true\n",
    "---"
   ]
  },
  {
   "cell_type": "markdown",
   "id": "6de8f215",
   "metadata": {},
   "source": [
    "# Workshop: Managing the Development Cycle with Git, GitHub, and GitHub Actions\n",
    "\n",
    "by Nicholas Del Grosso, October 1st, 2025\n",
    "\n",
    "## Pre-Workshop Materials: Getting Started\n",
    "\n",
    "This notebook is meant to help you get ready for Monday's session.  On Monday, we'll be jumping into some of the aspects of `Git` and `GitHub` related to automated code quality checking and collaboration, both in toy examples and in real projects from your team:\n",
    "\n",
    "  - GitHub Pull Requests & Protected Branches to do Trunk-Based Development\n",
    "  - GitHub Remotes & Continuous Integration with GitHub Actions\n",
    "  - Commits with Git & using pre-commit to format and lint code with  nbqa and ruff \n",
    "\n",
    "The sections below have information on how to get a common computational environment set up for the session, and which commands and procedures would be helpful to be familiar with before coming to the session, to get the most out the unit.  The commands below are terminal commands--if you are familiar with how to do the same tasks using the `VSCode` graphical interface, that is also totally fine for our purposes."
   ]
  },
  {
   "cell_type": "markdown",
   "id": "afa216fc",
   "metadata": {},
   "source": [
    "\n",
    "### Registration and Installation\n",
    "\n",
    "Make sure you can log in to these online services:\n",
    "\n",
    "- [ ] [`GitHub`](https://github.com/):\n",
    "    - Note: The `GitHub` username and email does *not* have to match your `git` username and email.  \n",
    "\n",
    "Make sure these programs are installed:\n",
    "  \n",
    "  - [ ] [git](https://git-scm.com/downloads)\n",
    "    1. Test the Installation works in the terminal: `git -v`\n",
    "    2.  Confirm your name is set for commits: `git config user.name`\n",
    "        - If not, run `git config --global user.name \"<your name>\"`\n",
    "    3.  Confirm your email is set for commits: `git config user.email`\n",
    "        - If not, run `git config --global user.email \"<your email>\"`\n",
    "\n",
    "  - [ ] [uv](https://docs.astral.sh/uv/getting-started/installation/)\n",
    "    1. Test the Installation works in the terminal: `uv self version`\n",
    "\n",
    "  - [ ] [Visual Studio Code](https://code.visualstudio.com/download) (\"VSCode\")\n",
    "    1. Test the Installation works either:\n",
    "        - In the terminal: `code -v`\n",
    "        - Through the standard app launcher.\n",
    "    2. (optional) Install Useful VSCode Extensions:\n",
    "        - [Python](https://marketplace.visualstudio.com/items?itemName=ms-python.python)\n",
    "        - [Git Graph](https://marketplace.visualstudio.com/items?itemName=mhutchie.git-graph)\n",
    "        - [Live Share](https://marketplace.visualstudio.com/items?itemName=MS-vsliveshare.vsliveshare)\n",
    "        - [GitHub Actions](https://marketplace.visualstudio.com/items?itemName=GitHub.vscode-github-actions)\n",
    "        - [GitHub Pull Requests](https://marketplace.visualstudio.com/items?itemName=GitHub.vscode-pull-request-github)\n"
   ]
  },
  {
   "cell_type": "markdown",
   "id": "eb563f98",
   "metadata": {},
   "source": [
    "\n",
    "### Refresh Your Skills\n",
    "\n",
    "To prepare for the session, please look through each of the sections below and check the skills checklist and the reference tables.  If those aspects seem familiar to you, you're ready to go!  If anything is unclear, please feel free to write to me (Nicholas Del Grosso) and ask questions at the session itself."
   ]
  },
  {
   "cell_type": "markdown",
   "id": "9e6a3ca6",
   "metadata": {},
   "source": [
    "\n",
    "## 1. Linear Version Control With `git`\n",
    "\n",
    "###  Skills Checklist\n",
    "\n",
    "Read through each of the following statements about proficience around a given technical task.  For any of the technical tasks listed below that you're not confident with, please do the onboarding exercises in the sections below, as part of preparation for the workshop session. \n",
    "\n",
    "  - [ ] I can start a new git project.\n",
    "  - [ ] I can make commits for sets of files I've changed.\n",
    "  - [ ] I can view my git commit log.\n",
    "  - [ ] I can checkout past commits to view the files at that stage, and then checkout the latest commit to come back to the present state of the project.\n",
    "  - [ ] I can revert or stash uncommitted changes to get my project back to the last committed state.\n"
   ]
  },
  {
   "cell_type": "markdown",
   "id": "2987fe7e",
   "metadata": {},
   "source": [
    "\n",
    "### How to Make Commits\n",
    "\n",
    "| Command | Description |\n",
    "| :-- | :-- |\n",
    "| **`git init`** | Initialize a new Git repository in the current directory |\n",
    "| **`git status`** | Show the status of changes in the working directory |\n",
    "| **`git add <file>`** | Stage \"file\" for commit |\n",
    "| `git add .` | Stage all modified and new files |\n",
    "| **`git commit -m \"<message>\"`** | Commit staged files with a message |\n",
    "| `git commit -am \"Commit message\"` | Stage and commit all modified files in one step |\n",
    "| **`git log`** | View the full commit history of the repository |\n",
    "| **`git diff`** | Compare the working directory with the last commit |\n",
    "\n"
   ]
  },
  {
   "cell_type": "markdown",
   "id": "061d582a",
   "metadata": {},
   "source": [
    "\n",
    "**Try it Out**:\n",
    "\n",
    "a. Make a fresh project with some history:\n",
    "  1. Make a new directory and turn it into a git repository.  \n",
    "  2. Add a new file with some \"Hello\" text and and commit it.\n",
    "  3. Add the line \"Bye\" to the text file and commit that change.  Check the diff log to see that git noticed that \"bye\" was added.\n",
    "  4. Add a second file called \"numbers.txt\" and commit it.\n",
    "\n"
   ]
  },
  {
   "cell_type": "markdown",
   "id": "0f0da753",
   "metadata": {
    "vscode": {
     "languageId": "plaintext"
    }
   },
   "source": [
    "---"
   ]
  },
  {
   "cell_type": "markdown",
   "id": "d1798f01",
   "metadata": {},
   "source": [
    "\n",
    "### How to Rewind & Undo\n",
    "\n",
    "| Command | Description |\n",
    "| :-- | :-- |\n",
    "| **`git checkout HEAD^1`** | \"Rewind one step\": Update the working directory to match the latest commit. |\n",
    "| **`git checkout <commit>`** | \"Jump to a specific commit\": Update the working directory to match the given commit. |\n",
    "| **`git checkout .`** | \"Fast Forward\": Update the working directory to match the latest commit. |\n",
    "| **`git reset <file>`** | Unstage \"file\", before committing. |\n",
    "| **`git reset --soft <commit>`** | Rewind the history to commit hash \"commit\", keeping all changes after in the stage. |\n",
    "| **`git reset --hard <commit> `** | Rewind the history to commit hash \"commit\", dumping all commits made afterward. (Note: Dangerous in shared repos) |\n",
    "| **`git revert <commit>`** | Make a new commit that makes the repo look just like it did at \"commit\" (Note: Great in shared repos) |\n",
    "\n"
   ]
  },
  {
   "cell_type": "markdown",
   "id": "b71210af",
   "metadata": {},
   "source": [
    "\n",
    "**Try it Out**:\n",
    "\n",
    "b. Play with the history of the project.\n",
    "  1. Rewind back to the first commit using \"checkout\", then go back to the latest commit. (note: the log will help identify the commit hash)\n",
    "  2. Do a revert to make the project look like it did at the first commit. \n",
    "  3. Rewind back to the previous commit to see that the history hasn't been lost--the second file that was created is still in the history, it just got deleted again.\n",
    "  4. Change the history by doing a `hard reset`: bring it back to the state at the first commit.  Verify that thie history is now lost--there is really only one commit now.  Whoops!"
   ]
  },
  {
   "cell_type": "markdown",
   "id": "9674232e",
   "metadata": {
    "vscode": {
     "languageId": "plaintext"
    }
   },
   "source": [
    "---\n",
    "  "
   ]
  },
  {
   "cell_type": "markdown",
   "id": "9e1a422f",
   "metadata": {},
   "source": [
    "## 2. Branched Version Control with `git`\n",
    "\n",
    "### Skills Checklist\n",
    "\n",
    "Read through each of the following statements about proficience around a given technical task.  For any of the technical tasks listed below that you're not confident with, please do the onboarding exercises in the sections below, as part of preparation for the workshop session. \n",
    "\n",
    "  - [ ] I can check the name of the current git branch I'm on, and see the names of the branches in the repo.\n",
    "  - [ ] I can make new git branches, in order to experiment with a new feature or develop something new.\n",
    "  - [ ] I can commit to the current branch.\n",
    "  - [ ] I can switch between branches, to jump between different versions of my project.\n",
    "  - [ ] I can merge the commits from one branch onto another.\n",
    "  - [ ] I can delete branches I don't want any more, whether I've merged them or not.\n"
   ]
  },
  {
   "cell_type": "markdown",
   "id": "4040066c",
   "metadata": {},
   "source": [
    "### How to Work with Branches\n",
    "\n",
    "\n",
    "| Command | Description |\n",
    "| :-- | :-- |\n",
    "| **`git branch`** | List the branches in the repo (active one has a star by it) |\n",
    "| **`git branch <name>`** | Make a new branch from the current commit, named <name> |\n",
    "| **`git switch <name>`** | Switch the HEAD to the specified branch. |\n",
    "| **`git merge <name>`** | Merge the commits from the branch <name> into the current commit. |\n",
    "| **`git rebase <name>`** | Put the commits from the current branch onto the end of branch <name>. |\n",
    "| **`git branch -d <name>`** | Delete a branch and all the commits with it. |\n",
    "| **`git branch -D <name>`** | Delete a branch and all the commits with it, *even if they aren't merged somewhere else already*. |\n",
    "\n"
   ]
  },
  {
   "cell_type": "markdown",
   "id": "20da586f",
   "metadata": {},
   "source": [
    "**Try it Out**:\n",
    "\n",
    "c. Make some new branches on an existing repo (check section above if you need to make a new repo):\n",
    "  1. Make a new branch called `new`\n",
    "  2. Switch to it.\n",
    "  3. Make a new text file called `snake.py` with the text `print(\"Hsss...\")` and commit it.\n",
    "  4. Switch back to your previous branch, and verify the `snake.py` is gone.\n",
    "  5. Switch back to the `new` branch, and get `snake.py` back!\n",
    "  6. Merge the new branch into the previous branch.  Now `snake.py` is in both branches!\n",
    "  7. Delete the `new branch`--it's done its job.\n",
    "\n",
    "    "
   ]
  },
  {
   "cell_type": "markdown",
   "id": "ec7e6cd7",
   "metadata": {
    "vscode": {
     "languageId": "plaintext"
    }
   },
   "source": [
    "---"
   ]
  },
  {
   "cell_type": "markdown",
   "id": "78aa3b74",
   "metadata": {},
   "source": [
    "## 3. Remote Repo Syncing between `git` and `GitHub`\n",
    "\n",
    "### Skills Checklist\n",
    "\n",
    "Read through each of the following statements about proficience around a given technical task.  For any of the technical tasks listed below that you're not confident with, please do the onboarding exercises in the sections below, as part of preparation for the workshop session. \n",
    "\n",
    "  - [ ] I can clone an existing `GitHub` repo to my local computer and build onto the `git` commit history.\n",
    "  - [ ] I can fetch the latest info about branches and commits from `GitHub` to my local `git` repo.\n",
    "  - [ ] I can pull the latest commits from a given branch on `GitHub` into my current local `git` branch.\n",
    "  - [ ] I can make a new repo on `GitHub`'s website and push my local `git` repo to it.\n"
   ]
  },
  {
   "cell_type": "markdown",
   "id": "1615745f",
   "metadata": {},
   "source": [
    "\n",
    "### How to Sync with Remote Repos\n",
    "\n",
    "| Command | Description |\n",
    "| :-- | :-- |\n",
    "| **`git clone <url> <path>`** | Copy the repo at \"url\" to your local machine at \"path\" |\n",
    "| **`git remote -v`** | List the names of the remote repos, and their urls. |\n",
    "| **`git remote add <name> <url>`** | Add a new remote repo. |\n",
    "| **`git fetch <name>`** | Download the repo metadata and commits from the \"name\" remote repo. *Note: doesn't affect local branches.* |\n",
    "| **`git merge <name>`** | Merge the commits from the branch \"branch\" (which could be a remote branch) into the current branch. |\n",
    "| **`git pull <remote> <branch>`** | a \"fetch & merge\" shortcut: Fetch and merge Download the commits from the \"remote\" remote's \"branch\" branch. |\n",
    "| **`git push <remote> <branch>`** | Upload the current branch to \"remote\" \"branch\" |\n",
    "| **`git remote remove <name>`** | Remove a remote repo.  *Note: this just deletes the record from the local repo, it doesn't actually delete the remote repo and its data. It's useful to do this when you've made a typo, for example.* |"
   ]
  },
  {
   "cell_type": "markdown",
   "id": "ec7d1e44",
   "metadata": {},
   "source": [
    "**Try it out**:\n",
    "\n",
    "  1. Make a new repo on GitHub, letting it add a README file and such to get the commit history started.\n",
    "  2. Clone the repo to your local machine (Note: if it's a private repo, you'll need either to put your password (the https:// link) or have your public ssh key available on Github (\"Settings\" -> \"SSH and GPG Keys\" -> \"New SSH Key\"), then copy-paste the contents from the public file made after running `ssh-keygen` on your machine.)\n",
    "  3. Check that your local repo knows about your github repo.\n",
    "  4. Modify the Readme file in the repo on your local machine, and commit it.\n",
    "  5. Push the committed change to the remote repo, and refresh the webpage to see the changes.\n",
    "  6. Use the \"edit\" feature in the web page to modify the Readme file in the Github website and make the commit using your web browser.\n",
    "  7. Pull the remote change down to your local repo.\n",
    "  \n",
    "  \n",
    "\n"
   ]
  },
  {
   "cell_type": "markdown",
   "id": "85b8d68e",
   "metadata": {},
   "source": [
    "---"
   ]
  }
 ],
 "metadata": {
  "kernelspec": {
   "display_name": "default",
   "language": "python",
   "name": "python3"
  },
  "language_info": {
   "codemirror_mode": {
    "name": "ipython",
    "version": 3
   },
   "file_extension": ".py",
   "mimetype": "text/x-python",
   "name": "python",
   "nbconvert_exporter": "python",
   "pygments_lexer": "ipython3",
   "version": "3.12.11"
  }
 },
 "nbformat": 4,
 "nbformat_minor": 5
}
