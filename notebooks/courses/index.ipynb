{
 "cells": [
  {
   "cell_type": "raw",
   "id": "32b2911a",
   "metadata": {},
   "source": [
    "---\n",
    "title: Courses Listing\n",
    "---"
   ]
  },
  {
   "cell_type": "markdown",
   "id": "c7d8c7f6",
   "metadata": {},
   "source": [
    "# These are the courses!"
   ]
  }
 ],
 "metadata": {
  "language_info": {
   "name": "python"
  }
 },
 "nbformat": 4,
 "nbformat_minor": 5
}
